{
  "nbformat": 4,
  "nbformat_minor": 0,
  "metadata": {
    "colab": {
      "name": "curso em video  paython ",
      "provenance": [],
      "collapsed_sections": [],
      "authorship_tag": "ABX9TyPik38KntT75eqScFE6jT4Q",
      "include_colab_link": true
    },
    "kernelspec": {
      "name": "python3",
      "display_name": "Python 3"
    }
  },
  "cells": [
    {
      "cell_type": "markdown",
      "metadata": {
        "id": "view-in-github",
        "colab_type": "text"
      },
      "source": [
        "<a href=\"https://colab.research.google.com/github/julianosouz/teste/blob/main/curso_paython.ipynb\" target=\"_parent\"><img src=\"https://colab.research.google.com/assets/colab-badge.svg\" alt=\"Open In Colab\"/></a>"
      ]
    },
    {
      "cell_type": "code",
      "metadata": {
        "id": "iFwLVHzz53so",
        "outputId": "ac6092e6-561e-46b8-fefc-a3ac10e286e6",
        "colab": {
          "base_uri": "https://localhost:8080/",
          "height": 34
        }
      },
      "source": [
        "print('ola mundo')"
      ],
      "execution_count": null,
      "outputs": [
        {
          "output_type": "stream",
          "text": [
            "ola mundo\n"
          ],
          "name": "stdout"
        }
      ]
    },
    {
      "cell_type": "code",
      "metadata": {
        "id": "L3Ok6iL6HjXH",
        "outputId": "389e8100-d7c0-4640-adc2-7cbadde6e857",
        "colab": {
          "base_uri": "https://localhost:8080/",
          "height": 34
        }
      },
      "source": [
        "nome = 'juliano',\n",
        "idade = 37 ,\n",
        "empresa = 'hashing trader',\n",
        "\n",
        "print(nome ,idade,empresa)\n"
      ],
      "execution_count": null,
      "outputs": [
        {
          "output_type": "stream",
          "text": [
            "('juliano',) (37,) ('hashing trader',)\n"
          ],
          "name": "stdout"
        }
      ]
    },
    {
      "cell_type": "code",
      "metadata": {
        "id": "sC4K-KA34OUJ",
        "outputId": "0d9f8056-d508-4d3f-b48a-e3dcb679ef78",
        "colab": {
          "base_uri": "https://localhost:8080/",
          "height": 68
        }
      },
      "source": [
        "n1 =int(input('digite um valor:'))\n",
        "n2 =int(input('digite outro valor'))\n",
        "s = n1 +n2\n",
        "print('a soma vale', s)\n",
        "\n"
      ],
      "execution_count": null,
      "outputs": [
        {
          "output_type": "stream",
          "text": [
            "digite um valor:300\n",
            "digite outro valor700\n",
            "a soma vale 1000\n"
          ],
          "name": "stdout"
        }
      ]
    },
    {
      "cell_type": "code",
      "metadata": {
        "id": "52m0_E-85G3o",
        "outputId": "85a8ee90-5df9-4759-dacc-22b0c17b9c5b",
        "colab": {
          "base_uri": "https://localhost:8080/",
          "height": 102
        }
      },
      "source": [
        "a = (input('digite algo'))\n",
        "print('qual o tipo primitivo desse valor',type(a))\n",
        "print('e alfabetico',a.isalpha())\n",
        "print('esta em maisculo',a.isupper())\n",
        "print('esta em minusculo',a.islower())\n",
        "\n"
      ],
      "execution_count": null,
      "outputs": [
        {
          "output_type": "stream",
          "text": [
            "digite algojuliano\n",
            "qual o tipo primitivo desse valor <class 'str'>\n",
            "e alfabetico True\n",
            "esta em maisculo False\n",
            "sta em minusculo True\n"
          ],
          "name": "stdout"
        }
      ]
    },
    {
      "cell_type": "code",
      "metadata": {
        "id": "thmb82G-8XXL",
        "outputId": "2039d331-10ae-4284-9f85-097f9d2dfda3",
        "colab": {
          "base_uri": "https://localhost:8080/",
          "height": 51
        }
      },
      "source": [
        "num =int (input('digite um numero'))\n",
        "print('o valor e {}, seu sucessor {} e o seu antecessor e {}'.format(num ,(num+1),(num-1)))\n",
        "\n"
      ],
      "execution_count": null,
      "outputs": [
        {
          "output_type": "stream",
          "text": [
            "digite um numero5\n",
            "o valor e 5, seu sucessor 6 e o seu antecessor e 4\n"
          ],
          "name": "stdout"
        }
      ]
    },
    {
      "cell_type": "code",
      "metadata": {
        "id": "gnZAzLvi--MS",
        "outputId": "8f899b74-1b84-4707-a19e-70d03e19a7ae",
        "colab": {
          "base_uri": "https://localhost:8080/",
          "height": 51
        }
      },
      "source": [
        "n = int (input('digite um numero'))\n",
        "print('o dobro vale {} o triplo {} e  quadruplo e {}'.format(n *2 ,(n * 3), (n * 4)))\n",
        "\n",
        "\n"
      ],
      "execution_count": null,
      "outputs": [
        {
          "output_type": "stream",
          "text": [
            "digite um numero10\n",
            "o dobro vale 20 o triplo 30 e  quadruplo e 40\n"
          ],
          "name": "stdout"
        }
      ]
    },
    {
      "cell_type": "code",
      "metadata": {
        "id": "-m_bF0BBA8AH",
        "outputId": "c6e5455d-f373-4415-dd39-68d68ad71e42",
        "colab": {
          "base_uri": "https://localhost:8080/",
          "height": 68
        }
      },
      "source": [
        "n1 =float (input('primeira nota do aluno'))\n",
        "n2 =float (input('seguda nota do aluno'))\n",
        "media =(n1 + n2)/ 2\n",
        "print('a media entre {} e {} e igual {}'.format(n1 , n2 ,media))\n"
      ],
      "execution_count": null,
      "outputs": [
        {
          "output_type": "stream",
          "text": [
            "primeira nota do aluno5\n",
            "seguda nota do aluno10\n",
            "a media entre 5.0 e 10.0 e igual 7.5\n"
          ],
          "name": "stdout"
        }
      ]
    },
    {
      "cell_type": "code",
      "metadata": {
        "id": "FoRtoWGxCKo7",
        "outputId": "e04047c5-123a-4ab6-8dcc-752b230f87eb",
        "colab": {
          "base_uri": "https://localhost:8080/",
          "height": 51
        }
      },
      "source": [
        "medida =float  (input('uma distancia em metros'))\n",
        "cm = medida * 100\n",
        "mm = medida * 1000\n",
        "print('a media de {}m corresponde a {}cm e {}mm '.format(medida ,cm ,mm))\n",
        "\n"
      ],
      "execution_count": null,
      "outputs": [
        {
          "output_type": "stream",
          "text": [
            "uma distancia em metros 100\n",
            "a media de 100.0m corresponde a 10000.0cm e 100000.0mm \n"
          ],
          "name": "stdout"
        }
      ]
    },
    {
      "cell_type": "code",
      "metadata": {
        "id": "I0tqumG6D0A_",
        "outputId": "14dd5b03-afd5-4efb-f37b-cfa0a5de2a76",
        "colab": {
          "base_uri": "https://localhost:8080/",
          "height": 204
        }
      },
      "source": [
        "num =int (input('digite um numero pa ver sua tabuada:'))\n",
        "print('{} x {:2} = {}'.format(num,1,num*1))\n",
        "print('{} x {:2} = {}'.format(num,2,num*2))\n",
        "print('{} x {:2} = {}'.format(num,3,num*3))\n",
        "print('{} x {:2} = {}'.format(num,4,num*4))\n",
        "print('{} x {:2} = {}'.format(num,5,num*5))\n",
        "print('{} x {:2} = {}'.format(num,6,num*6))\n",
        "print('{} x {:2} = {}'.format(num,7,num*7))\n",
        "print('{} x {:2} = {}'.format(num,8,num*8))\n",
        "print('{} x {:2} = {}'.format(num,9,num*9))\n",
        "print('{} x {:2} = {}'.format(num,10,num*10))"
      ],
      "execution_count": null,
      "outputs": [
        {
          "output_type": "stream",
          "text": [
            "digite um numero pa ver sua tabuada: 7\n",
            "7 x  1 = 7\n",
            "7 x  2 = 14\n",
            "7 x  3 = 21\n",
            "7 x  4 = 28\n",
            "7 x  5 = 35\n",
            "7 x  6 = 42\n",
            "7 x  7 = 49\n",
            "7 x  8 = 56\n",
            "7 x  9 = 63\n",
            "7 x 10 = 70\n"
          ],
          "name": "stdout"
        }
      ]
    },
    {
      "cell_type": "code",
      "metadata": {
        "id": "1BYrsHEOFyU8",
        "outputId": "7e7b310a-cef9-4e61-dc49-52aa31bc31c5",
        "colab": {
          "base_uri": "https://localhost:8080/",
          "height": 51
        }
      },
      "source": [
        "dinheiro =float (input('quanto de dinheiro voce tem na carteira?'))\n",
        "carteira = (dinheiro / 5.20)\n",
        "print('com {} R$ voce pode comprar {} U$$'.format(dinheiro , carteira))\n",
        "\n",
        "\n",
        "\n",
        "\n",
        "\n",
        "\n"
      ],
      "execution_count": null,
      "outputs": [
        {
          "output_type": "stream",
          "text": [
            "quanto de dinheiro voce tem na carteira? 100\n",
            "com 100.0 R$ voce pode comprar 19.23076923076923 U$$\n"
          ],
          "name": "stdout"
        }
      ]
    },
    {
      "cell_type": "code",
      "metadata": {
        "id": "14LJF2qQI4c_",
        "outputId": "20c08c3f-9417-48be-d4e2-80d98536898e",
        "colab": {
          "base_uri": "https://localhost:8080/",
          "height": 85
        }
      },
      "source": [
        "largura  =float (input('qual a altura da parede'))\n",
        "altura =float  (input('qual a largura da parede'))\n",
        "area = largura * altura\n",
        "print('sua parede tem dimensao de {} x{} e suaa area e de {:.2f}m '.format(largura, altura ,area ))\n",
        "tinta =area / 2\n",
        "print('para pintar essa parede , voce precisa de {:.2f} de tinta'.format(tinta))\n",
        "\n",
        "\n",
        " \n",
        "\n"
      ],
      "execution_count": null,
      "outputs": [
        {
          "output_type": "stream",
          "text": [
            "qual a altura da parede2.70\n",
            "qual a largura da parede3.50\n",
            "sua parede tem dimensao de 2.7 x3.5 e suaa area e de 9.45m \n",
            "para pintar essa parede , voce precisa de 4.73 de tinta\n"
          ],
          "name": "stdout"
        }
      ]
    },
    {
      "cell_type": "code",
      "metadata": {
        "id": "Bf2q9gy7NPUI",
        "outputId": "e859a4a7-957c-4b8b-cc01-ca84af7e7f71",
        "colab": {
          "base_uri": "https://localhost:8080/",
          "height": 51
        }
      },
      "source": [
        "preco = float (input('qual e o preco do produto? R$'))\n",
        "novo = preco - (preco * 5 / 100)\n",
        "print('o preco do produto e {:.2f} R$ com o aumento de 5% o valor ficou {:.2f} R$'.format(preco, novo))\n",
        "\n",
        "\n"
      ],
      "execution_count": null,
      "outputs": [
        {
          "output_type": "stream",
          "text": [
            "qual e o preco do produto? R$100\n",
            "o preco do produto e 100.0 R$ com o aumento de 5% o valor ficou 95.00 R$\n"
          ],
          "name": "stdout"
        }
      ]
    },
    {
      "cell_type": "code",
      "metadata": {
        "id": "JlJ5cagCnwwb",
        "outputId": "330d2f0a-97fe-4540-f381-c16942bfe2ce",
        "colab": {
          "base_uri": "https://localhost:8080/",
          "height": 51
        }
      },
      "source": [
        "salario = float (input('qual e o salario do funcionario? R$'))\n",
        "novo = salario + (salario * 15 / 100)\n",
        "print('um funcionario que ganhava  {:.2F}R$ ,com 15% de aumento passa a receber {:.2f} '.format(salario, novo))\n"
      ],
      "execution_count": null,
      "outputs": [
        {
          "output_type": "stream",
          "text": [
            "qual e o salario do funcionario? R$2500\n",
            "um funcionario que ganhava  2500.00R$ ,com 15% de aumento passa a receber 2875.00 \n"
          ],
          "name": "stdout"
        }
      ]
    },
    {
      "cell_type": "code",
      "metadata": {
        "id": "-WxQkC2kpdcq",
        "outputId": "d8d7bdc4-d0e9-487b-934a-d0629675c6ea",
        "colab": {
          "base_uri": "https://localhost:8080/",
          "height": 51
        }
      },
      "source": [
        "c = float (input('informe a temperatura em C:'))\n",
        "f = 9 * c / 5 + 32\n",
        "print(' a temperatura de {} C: corresponde a {} F! '.format(c , f))\n"
      ],
      "execution_count": null,
      "outputs": [
        {
          "output_type": "stream",
          "text": [
            "informe a temperatura em C:40\n",
            " a temperatura de 40.0 C: corresponde a 104.0 F! \n"
          ],
          "name": "stdout"
        }
      ]
    },
    {
      "cell_type": "code",
      "metadata": {
        "id": "bA00HIQiri13",
        "outputId": "6af23607-d344-447e-d765-e6c31b6f8b8e",
        "colab": {
          "base_uri": "https://localhost:8080/",
          "height": 68
        }
      },
      "source": [
        "dias = int(input('quantos dias alugados?'))\n",
        "km = float (input('quantos km rodados?'))\n",
        "pago = (dias * 60) + (km * 0.15)\n",
        "print('o total a pagar e de R${:.2F}'.format(pago))\n"
      ],
      "execution_count": 1,
      "outputs": [
        {
          "output_type": "stream",
          "text": [
            "quantos dias alugados?10\n",
            "quantos km rodados?200\n",
            "o total a pagar e de R$630.00\n"
          ],
          "name": "stdout"
        }
      ]
    },
    {
      "cell_type": "code",
      "metadata": {
        "id": "XygxKn0JVEEI",
        "outputId": "073652a7-82c9-42a1-9f4d-dda394c1fee4",
        "colab": {
          "base_uri": "https://localhost:8080/",
          "height": 51
        }
      },
      "source": [
        "from math import trunc\n",
        "num = float (input( 'digite um valor'))\n",
        "\n",
        "print(' o valor digitado foi {} e a sua porcao inteira {}'.format(num,trunc(num)))\n"
      ],
      "execution_count": null,
      "outputs": [
        {
          "output_type": "stream",
          "text": [
            "digite um valor3.1915\n",
            " o valor digitado foi 3.1915 e a sua porcao inteira 3\n"
          ],
          "name": "stdout"
        }
      ]
    },
    {
      "cell_type": "code",
      "metadata": {
        "id": "IJEd3clenAj5",
        "outputId": "dc6f0f9d-beb1-4189-c63c-1d236cf18acb",
        "colab": {
          "base_uri": "https://localhost:8080/",
          "height": 68
        }
      },
      "source": [
        "co =float (input('comprimento do cateto oposto'))\n",
        "ca = float(input('comprimento do cateto adijacente'))\n",
        "hi = (co ** 2 + ca ** 2) ** (1/2)\n",
        "print('a hipotenusa vai medir {:.2f}'.format(hi))\n",
        "\n"
      ],
      "execution_count": null,
      "outputs": [
        {
          "output_type": "stream",
          "text": [
            "comprimento do cateto op´sto 2\n",
            "comprimento do cateto adijacente 2.5\n",
            "a hipotenusa vai medir 3.20\n"
          ],
          "name": "stdout"
        }
      ]
    },
    {
      "cell_type": "code",
      "metadata": {
        "id": "cw_yl4hEqCNU",
        "outputId": "f3534ef0-d076-4ca2-809c-a268394bf645",
        "colab": {
          "base_uri": "https://localhost:8080/",
          "height": 68
        }
      },
      "source": [
        "from math import  hypot\n",
        "co =float (input('comprimento do cateto oposto'))\n",
        "ca = float(input('comprimento do cateto adijacente'))\n",
        "hi = math.hypot(co,ca)\n",
        "print('a hipotenusa vai medir{:.2f}'.format(hi))\n",
        " "
      ],
      "execution_count": null,
      "outputs": [
        {
          "output_type": "stream",
          "text": [
            "comprimento do cateto oposto2\n",
            "comprimento do cateto adijacente2.5\n",
            "a hipotenusa vai medir3.20\n"
          ],
          "name": "stdout"
        }
      ]
    },
    {
      "cell_type": "code",
      "metadata": {
        "id": "-U2t_1VGqzPG",
        "outputId": "c99e453d-33fd-4ffd-e29a-f80440284630",
        "colab": {
          "base_uri": "https://localhost:8080/",
          "height": 51
        }
      },
      "source": [
        "import math\n",
        "angulo = float (input('digite o angulo que voce deseja'))\n",
        "seno = math.sin(math.radians(angulo))\n",
        "print('o angulo de {} tem o seno de {:.2f}'.format(angulo,seno))\n",
        "\n",
        "\n"
      ],
      "execution_count": null,
      "outputs": [
        {
          "output_type": "stream",
          "text": [
            "digite o angulo que voce deseja45\n",
            "o angulo de 45.0 tem o seno de 0.71\n"
          ],
          "name": "stdout"
        }
      ]
    },
    {
      "cell_type": "code",
      "metadata": {
        "id": "2OtGtIsyxLKh",
        "outputId": "8119420a-b85b-4c59-eeb8-54294f119014",
        "colab": {
          "base_uri": "https://localhost:8080/",
          "height": 85
        }
      },
      "source": [
        "from math import sin ,cos ,tan\n",
        "angulo = float (input('digite o angulo que voce deseja'))\n",
        "seno = sin(math.radians(angulo))\n",
        "print('o angulo de {} tem o seno de {:.2f}'.format(angulo,seno))\n",
        "coseno =cos(math.radians(angulo))\n",
        "print('o angulo de {} tem o coseno de {:.2f}'.format(angulo,coseno))\n",
        "tangente = tan(math.radians(angulo))\n",
        "print('o angulo de {} tem a TANGENTE de {:.2f}'.format(angulo,tangente))\n"
      ],
      "execution_count": null,
      "outputs": [
        {
          "output_type": "stream",
          "text": [
            "digite o angulo que voce deseja  45\n",
            "o angulo de 45.0 tem o seno de 0.71\n",
            "o angulo de 45.0 tem o coseno de 0.71\n",
            "o angulo de 45.0 tem a TANGENTE de 1.00\n"
          ],
          "name": "stdout"
        }
      ]
    },
    {
      "cell_type": "code",
      "metadata": {
        "id": "kDUY0JEayAds"
      },
      "source": [
        "import math\n",
        "angulo = float (input('digite o angulo que voce deseja'))\n",
        "seno = math.sin(math.radians(angulo))\n",
        "print('o angulo de {} tem o seno de {:.2f}'.format(angulo,seno))\n",
        "coseno = math.cos(math.radians(angulo))\n",
        "print('o angulo de {} tem o coseno de {:.2f}'.format(angulo,coseno))\n",
        "tangente = tan(radians(angulo))\n",
        "print('o angulo de {} tem a tangente de {:.2f}'.format(angulo,tangente))"
      ],
      "execution_count": null,
      "outputs": []
    }
  ]
}